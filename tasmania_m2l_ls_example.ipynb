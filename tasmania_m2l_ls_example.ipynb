{
 "cells": [
  {
   "cell_type": "markdown",
   "metadata": {
    "colab_type": "text",
    "id": "view-in-github"
   },
   "source": [
    "<a href=\"https://colab.research.google.com/github/Loop3D/2022_GA_Workshop/blob/main/template_map2loop_loopstructural.ipynb\" target=\"_parent\"><img src=\"https://colab.research.google.com/assets/colab-badge.svg\" alt=\"Open In Colab\"/></a>"
   ]
  },
  {
   "cell_type": "code",
   "execution_count": null,
   "metadata": {
    "colab": {
     "base_uri": "https://localhost:8080/",
     "height": 1000
    },
    "id": "yKjEmhM5oGJT",
    "outputId": "a048cde6-3ee1-42eb-d5ba-3d01f4386a1b"
   },
   "outputs": [],
   "source": [
    "!pip install rasterio\n",
    "!pip install git+https://github.com/geopandas/geopandas.git@v0.10.2\n",
    "!pip install hjson\n",
    "!pip install owslib\n",
    "!pip install git+https://github.com/Loop3D/map2model_cpp.git\n",
    "!pip install git+https://github.com/Loop3D/LoopProjectFile.git\n",
    "!pip install pygeos\n",
    "!pip install mplstereonet\n",
    "!pip install lavavu-osmesa\n",
    "!pip install git+https://github.com/Loop3d/LoopStructural@v1.5.3\n",
    "!pip install git+https://github.com/Loop3d/map2loop-2.git@1.3.1\n",
    "!pip install beartype\n",
    "!pip install osgeo"
   ]
  },
  {
   "cell_type": "code",
   "execution_count": null,
   "metadata": {},
   "outputs": [],
   "source": [
    "from google.colab import files\n",
    "\n",
    "uploaded = files.upload()\n",
    "\n",
    "geology_filename = \"./CombinedPolygons.shp\"\n",
    "fault_filename = \"./CombinedFaults.shp\"\n",
    "fold_filename = \"./CombinedFaults.shp\"\n",
    "structure_filename = \"./StructClip.shp\"\n",
    "mindep_filename = \"./null_mindeps.shp\"\n",
    "dtm_filename = \"./June22DTM.tif\"\n",
    "metadata_filename = \"./m2l_config.hjson\"\n",
    "\n",
    "clut_filename = \"./clut.csv\""
   ]
  },
  {
   "cell_type": "code",
   "execution_count": null,
   "metadata": {
    "id": "Fpcjp6DjoWsJ"
   },
   "outputs": [],
   "source": [
    "from map2loop.project import Project\n",
    "from map2loop.m2l_enums import VerboseLevel\n",
    "import time\n",
    "from datetime import datetime\n",
    "\n",
    "nowtime=datetime.now().isoformat(timespec='minutes')   \n",
    "model_name=nowtime.replace(\":\",\"-\").replace(\"T\",\"-\")\n",
    "\n",
    "t0 = time.time()\n",
    "\n",
    "proj = Project( \n",
    "                  geology_filename=geology_filename,\n",
    "                  fault_filename=fault_filename,\n",
    "                  fold_filename=fold_filename,\n",
    "                  structure_filename=structure_filename,\n",
    "                  mindep_filename=mindep_filename,\n",
    "                  dtm_filename=dtm_filename,\n",
    "                  metadata_filename=metadata_filename,\n",
    "                  overwrite=\"true\",\n",
    "                  verbose_level=VerboseLevel.NONE,\n",
    "                  project_path=model_name,\n",
    "                  working_projection=\"EPSG:28355\",\n",
    "                )\n",
    "\n",
    "proj.update_config(\n",
    "                    bbox_3d={\n",
    "                         \"minx\": 319518,\n",
    "                         \"miny\": 5399467,\n",
    "                         \"maxx\": 340530,\n",
    "                         \"maxy\": 5420458,\n",
    "                         \"base\": -6000,\n",
    "                         \"top\": 0,\n",
    "                    },\n",
    "                    clut_path=clut_filename,\n",
    "                    run_flags={\n",
    "                        'aus': False,\n",
    "                        'contact_decimate': 5,\n",
    "                        'intrusion_mode': 1,\n",
    "                        'min_fault_length': 3000,\n",
    "                        'use_fat': False,\n",
    "                        'use_interpolations': False,\n",
    "                        'drift_prefix':['cover'],\n",
    "#                         'drift_prefix':['Qha','Qhb','Qhbd','Qhd','Qhdm','Qpso','Qptn','qv','Water','Unknown'],\n",
    "                    }\n",
    "                  )\n",
    "proj.workflow['contact_dips']=False\n",
    "proj.run()"
   ]
  },
  {
   "cell_type": "code",
   "execution_count": null,
   "metadata": {},
   "outputs": [],
   "source": [
    "vtk_filename=model_name+'/vtk/'+'surface_name_{}.vtk'\n",
    "\n",
    "fault_params = {'interpolatortype':'FDI',\n",
    "                 'nelements':1e4,\n",
    "                }\n",
    "foliation_params = {'interpolatortype':'FDI' , # 'interpolatortype':'PLI',\n",
    "                    'nelements':1e5,  # how many tetras/voxels\n",
    "                    'regularisation':5,\n",
    "                    }"
   ]
  },
  {
   "cell_type": "code",
   "execution_count": null,
   "metadata": {},
   "outputs": [],
   "source": [
    "t1 = time.time()\n",
    "import LoopProjectFile as LPF\n",
    "from LoopStructural.modelling.input.project_file import LoopProjectfileProcessor as LPFProcessor\n",
    "from LoopStructural import GeologicalModel\n",
    "from LoopStructural.visualisation import LavaVuModelViewer\n",
    "import lavavu\n",
    "import numpy as np\n",
    "import os\n",
    "\n",
    "LPFilename = os.path.join(proj.config.output_path,\"output.loop3d\")\n",
    "projFile = LPF.ProjectFile(LPFilename)\n",
    "processedData = LPFProcessor(projFile)\n",
    "processedData.foliation_properties['sg'] = foliation_params\n",
    "processedData.fault_properties['interpolatortype'] = fault_params['interpolatortype']\n",
    "processedData.fault_properties['nelements'] = fault_params['nelements']\n",
    "\n",
    "model = GeologicalModel(np.append(projFile.origin[:2],projFile.extents['depth'][1]),projFile.extents['utm'][3:5:1] + [projFile.extents['depth'][0]])\n",
    "model = model.from_processor(processedData)\n",
    "model.update()\n",
    "\n",
    "view = LavaVuModelViewer(model,vertical_exaggeration=1) \n",
    "view.nsteps=np.array([50,50,50])\n",
    "for sg in model.feature_name_index:\n",
    "    if( 'super' in sg):\n",
    "        view.add_data(model.features[model.feature_name_index[sg]])\n",
    "view.nelements = 1e5\n",
    "view.add_model_surfaces(filename=vtk_filename,faults=False)\n",
    "view.nelements=1e6\n",
    "view.add_model_surfaces(filename=vtk_filename,strati=False,displacement_cmap = 'rainbow')\n",
    "view.lv.webgl(model_name+'/vtk/'+model_name)\n",
    "view.nsteps = np.array([200,200,200])\n",
    "\n",
    "view.add_model()\n",
    "\n",
    "view.lv.control.Range('alpha', label=\"Global Opacity\")\n",
    "view.lv.control.DualRange(['xmin', 'xmax'], label=\"x clip\", step=0.01, values=[0.0,1.0])\n",
    "view.lv.control.DualRange(['ymin', 'ymax'], label=\"y clip\", step=0.01, values=[0.0,1.0])\n",
    "view.lv.control.DualRange(['zmin', 'zmax'], label=\"z clip\", step=0.01, values=[0.0,1.0])\n",
    "view.lv.control.Range(command='background', range=(0,1), step=0.1, value=0.8)\n",
    "view.lv.control.show() #Show the control panel, including the viewer window\n",
    "view.interactive()\n",
    "\n",
    "t2 = time.time()\n",
    "print(\"m2l\",(t1-t0)/60,\"LoopStructuralLPF\",(t2-t1)/60,\"Total\",(t2-t0)/60,\"minutes\")"
   ]
  },
  {
   "cell_type": "code",
   "execution_count": null,
   "metadata": {
    "id": "73eyX8wCqR21"
   },
   "outputs": [],
   "source": []
  }
 ],
 "metadata": {
  "colab": {
   "authorship_tag": "ABX9TyN3sSIIqTcLXcKfIQI3/MU4",
   "include_colab_link": true,
   "provenance": []
  },
  "kernelspec": {
   "display_name": "Python 3 (ipykernel)",
   "language": "python",
   "name": "python3"
  },
  "language_info": {
   "codemirror_mode": {
    "name": "ipython",
    "version": 3
   },
   "file_extension": ".py",
   "mimetype": "text/x-python",
   "name": "python",
   "nbconvert_exporter": "python",
   "pygments_lexer": "ipython3",
   "version": "3.9.12"
  }
 },
 "nbformat": 4,
 "nbformat_minor": 1
}
